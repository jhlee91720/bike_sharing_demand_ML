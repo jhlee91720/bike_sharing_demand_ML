{
 "cells": [
  {
   "cell_type": "markdown",
   "id": "0aa63103",
   "metadata": {},
   "source": [
    "# Importing Libraries and Data"
   ]
  },
  {
   "cell_type": "code",
   "execution_count": null,
   "id": "ee5d3634",
   "metadata": {},
   "outputs": [],
   "source": [
    "import numpy as np\n",
    "import pandas as pd\n",
    "import matplotlib.pyplot as plt\n",
    "%matplotlib inline\n",
    "import seaborn as sns\n",
    "\n",
    "test = pd.read_csv('/Users/joohyun/Desktop/Projects/bike-sharing-demand/test.csv')\n",
    "train = pd.read_csv('/Users/joohyun/Desktop/Projects/bike-sharing-demand/train.csv')"
   ]
  },
  {
   "cell_type": "code",
   "execution_count": null,
   "id": "95a1e49e",
   "metadata": {},
   "outputs": [],
   "source": [
    "test.head()"
   ]
  },
  {
   "cell_type": "code",
   "execution_count": null,
   "id": "64bdaca7",
   "metadata": {},
   "outputs": [],
   "source": [
    "train.head()"
   ]
  },
  {
   "cell_type": "markdown",
   "id": "bd5f81d2",
   "metadata": {},
   "source": [
    "### Data Fields\n",
    "* datetime - hourly date + timestamp\n",
    "* season \n",
    "    - 1 = spring\n",
    "    - 2 = summer\n",
    "    - 3 = fall\n",
    "    - 4 = winter\n",
    "* holiday - whether the day is considered a holiday\n",
    "* workingday - whether the day is neither a weekend nor holiday\n",
    "* weather\n",
    "    - 1: Clear, Few clouds, Partly cloudy, Partly cloudy \n",
    "    - 2: Mist + Cloudy, Mist + Broken clouds, Mist + Few clouds, Mist\n",
    "    - 3: Light Snow, Light Rain + Thunderstorm + Scattered clouds, Light Rain + Scattered clouds\n",
    "    - 4: Heavy Rain + Ice Pallets + Thunderstorm + Mist, Snow + Fog\n",
    "* temp - temperature in Celsius\n",
    "* atemp - \"feels like\" temperature in Celsius\n",
    "* humidity - relative humidity\n",
    "* windspeed - wind speed\n",
    "* casual - number of non-registered user rentals initiated\n",
    "* registered - number of registered user rentals initiated\n",
    "* count - number of total rentals"
   ]
  },
  {
   "cell_type": "markdown",
   "id": "cee4a7f8",
   "metadata": {},
   "source": [
    "# Preprocessing 'datetime' column"
   ]
  },
  {
   "cell_type": "code",
   "execution_count": null,
   "id": "c0d7fa2a",
   "metadata": {},
   "outputs": [],
   "source": [
    "train['datetime2'] = pd.to_datetime(train['datetime'])\n",
    "train['year'] = train['datetime2'].dt.year\n",
    "train['month'] = train['datetime2'].dt.month\n",
    "train['day'] = train['datetime2'].dt.day\n",
    "train['hour'] = train['datetime2'].dt.hour\n",
    "train.head()"
   ]
  },
  {
   "cell_type": "markdown",
   "id": "e6615b73",
   "metadata": {},
   "source": [
    "# EDA"
   ]
  },
  {
   "cell_type": "markdown",
   "id": "bd6b6d88",
   "metadata": {},
   "source": [
    "## 1. The relationship between numerical variables and rental count"
   ]
  },
  {
   "cell_type": "markdown",
   "id": "f0a9ce65",
   "metadata": {},
   "source": [
    "numerical variables\n",
    "1. temp\n",
    "2. atemp\n",
    "3. humidity\n",
    "4. windspeed"
   ]
  },
  {
   "cell_type": "markdown",
   "id": "f1685a91",
   "metadata": {},
   "source": [
    "### a) Plotting the distribution of count using Heatmap"
   ]
  },
  {
   "cell_type": "code",
   "execution_count": null,
   "id": "dff1bdbe",
   "metadata": {},
   "outputs": [],
   "source": [
    "colormap = plt.cm.PuBu\n",
    "plt.figure(figsize=(10, 8))\n",
    "plt.title(\"Person Correlation of Features\", y = 1.05, size = 15)  \n",
    "sns.heatmap(train[['temp', 'atemp', 'humidity', 'windspeed', 'casual', 'registered', 'count']].corr(),  linewidths = 0.1, vmax = 1.0 ,\n",
    "            square = True, cmap = colormap, linecolor = \"white\", annot = True, annot_kws = {\"size\" : 16})\n",
    "plt.show()"
   ]
  },
  {
   "cell_type": "markdown",
   "id": "71953e97",
   "metadata": {},
   "source": [
    "### b) Plotting distribution of count using scatterplots"
   ]
  },
  {
   "cell_type": "code",
   "execution_count": null,
   "id": "1a05ebe5",
   "metadata": {},
   "outputs": [],
   "source": [
    "plt.rc('font', size = 7)\n",
    "fig, axs = plt.subplots(2,2, figsize=(8, 8))\n",
    "ax1, ax2, ax3, ax4 = axs.flatten()\n",
    "\n",
    "axs1 = sns.regplot(x='temp', y='count', data=train, ax=ax1, scatter_kws = {'alpha':0.2}, line_kws={'color':'blue'})\n",
    "axs2 = sns.regplot(x='atemp', y='count', data=train, ax=ax2, scatter_kws = {'alpha':0.2}, line_kws={'color':'blue'})\n",
    "axs3 = sns.regplot(x='humidity', y='count', data=train, ax=ax3, scatter_kws = {'alpha':0.2}, line_kws={'color':'blue'})\n",
    "axs4 = sns.regplot(x='windspeed', y='count', data=train, ax=ax4, scatter_kws = {'alpha':0.2}, line_kws={'color':'blue'})\n",
    "\n",
    "axs1.set_title('Temp')\n",
    "axs2.set_title('Atemp')\n",
    "axs3.set_title('Humidity')\n",
    "axs4.set_title('Windspeed')\n",
    "\n",
    "plt.show()"
   ]
  },
  {
   "cell_type": "markdown",
   "id": "3bd266aa",
   "metadata": {},
   "source": [
    "Analysis\n",
    "1. `temp`, `atemp` show a weak positive correlation of around 0.4 with the rental count.\n",
    "2. `humidity` has a slightly negative correlation of around 0.3.\n",
    "3. `windspeed` has a correlation of about 0.1, so no clear trend is observed.\n",
    "4. when looking at the scatter plot between `windspeed` and `count`, many of the values are concentrated at 0."
   ]
  },
  {
   "cell_type": "markdown",
   "id": "23f177a4",
   "metadata": {},
   "source": [
    "### c) Plotting distribution of count using boxplots"
   ]
  },
  {
   "cell_type": "code",
   "execution_count": null,
   "id": "c1df7f86",
   "metadata": {},
   "outputs": [],
   "source": [
    "figure, (ax1, ax2, ax3) = plt.subplots(1, 3, figsize = (15, 7))\n",
    "\n",
    "sns.boxplot(y = 'casual', data = train, ax = ax1)\n",
    "sns.boxplot(y = 'registered', data = train, ax = ax2)\n",
    "sns.boxplot(y = 'count', data = train, ax = ax3)\n",
    "\n",
    "ax1.set_title('Casual')\n",
    "ax2.set_title('Registered')\n",
    "ax3.set_title('Count')\n",
    "\n",
    "plt.show()"
   ]
  },
  {
   "cell_type": "markdown",
   "id": "588661eb",
   "metadata": {},
   "source": [
    "Analysis\n",
    "1. casual users had stronger correlations with all four variables than registered users."
   ]
  },
  {
   "cell_type": "markdown",
   "id": "e38daf50",
   "metadata": {},
   "source": [
    "## 2. The relationship Between Categorical Variables and Rental Count"
   ]
  },
  {
   "cell_type": "markdown",
   "id": "7e5a20b2",
   "metadata": {},
   "source": [
    "categorical variables\n",
    "1. datetime\n",
    "2. weather\n",
    "3. season\n",
    "4. workingday and holiday"
   ]
  },
  {
   "cell_type": "markdown",
   "id": "3488ed8a",
   "metadata": {},
   "source": [
    "### a) `count` vs. `datetime`"
   ]
  },
  {
   "cell_type": "code",
   "execution_count": null,
   "id": "1360207c",
   "metadata": {},
   "outputs": [],
   "source": [
    "\n",
    "fig, axs = plt.subplots(2,2, figsize=(12, 10))\n",
    "ax1, ax2, ax3, ax4 = axs.flatten()\n",
    "\n",
    "# y axis = count\n",
    "axs1 = sns.barplot(x = 'year', y = 'count', data = train, ax=ax1, palette=\"hls\") \n",
    "axs2 = sns.barplot(x = 'month', y = 'count', data = train, ax=ax2, palette=\"hls\")\n",
    "axs3 = sns.barplot(x = 'day', y = 'count', data = train, ax=ax3, palette=\"hls\")\n",
    "axs4 = sns.barplot(x = 'hour', y = 'count', data = train, ax=ax4, palette=\"hls\")\n",
    "\n",
    "axs1.set_title('Year')\n",
    "axs2.set_title('Month')\n",
    "axs3.set_title('Day')\n",
    "axs4.set_title('Hour')\n",
    "\n",
    "axs2.tick_params(axis = 'x', labelrotation = 90) \n",
    "axs4.tick_params(axis = 'x', labelrotation = -45) \n",
    "\n",
    "\n",
    "plt.show()"
   ]
  },
  {
   "cell_type": "markdown",
   "id": "53a55af2",
   "metadata": {},
   "source": [
    "Analysis\n",
    "1. `year`: The average rental count in 2012 is higher compared to 2011.\n",
    "2. `month`: June shows the highest average rental count. Overall, rental counts are high from May to October.\n",
    "3. `day`: No significant difference observed → should be eliminated\n",
    "4. `hour`: \\\n",
    "    a) Rental counts are unusually high around 8 AM and 5–6 PM, which are commuting hours. \\\n",
    "    b) the number of rentals per hour seems to be mostly around 150 to 200"
   ]
  },
  {
   "cell_type": "markdown",
   "id": "871988c5",
   "metadata": {},
   "source": [
    "### b) `count` vs. `weather`"
   ]
  },
  {
   "cell_type": "code",
   "execution_count": null,
   "id": "07217691",
   "metadata": {},
   "outputs": [],
   "source": [
    "(train.groupby('weather')[['datetime']].count() / len(train))*100"
   ]
  },
  {
   "cell_type": "code",
   "execution_count": null,
   "id": "c2a8c1bd",
   "metadata": {},
   "outputs": [],
   "source": [
    "w_train = train.groupby('weather')[['count']].sum().reset_index()\n",
    "wc_train = train.groupby('weather')[['casual']].sum().reset_index()\n",
    "wr_train = train.groupby('weather')[['registered']].sum().reset_index()\n",
    "\n",
    "fig, axs = plt.subplots(1,3, figsize=(18,5))\n",
    "ax1, ax2, ax3 = axs.flatten()\n",
    "\n",
    "axs1 = sns.barplot(x = 'weather', y = 'casual', data=wc_train, ax = ax1, palette = 'tab10')\n",
    "axs2 = sns.barplot(x = 'weather', y = 'registered', data=wr_train, ax = ax2, palette = 'tab10')\n",
    "axs3 = sns.barplot(x = 'weather', y = 'count', data=w_train, ax = ax3, palette = 'tab10')\n",
    "\n",
    "axs1.set_title('Causal')\n",
    "axs2.set_title('Registered')\n",
    "axs3.set_title('Count (ALL)')\n",
    "\n",
    "plt.show()"
   ]
  },
  {
   "cell_type": "markdown",
   "id": "8bb8ba3c",
   "metadata": {},
   "source": [
    "### c) `count` vs. `season`"
   ]
  },
  {
   "cell_type": "code",
   "execution_count": null,
   "id": "0d414ea8",
   "metadata": {},
   "outputs": [],
   "source": [
    "fig, axs = plt.subplots(1,3, figsize=(18,5))\n",
    "ax1, ax2, ax3 = axs.flatten()\n",
    "\n",
    "axs1 = sns.barplot(x = 'season', y = 'casual', data=train, ax = ax1, palette = 'tab10')\n",
    "axs2 = sns.barplot(x = 'season', y = 'registered', data=train, ax = ax2,  palette = 'tab10')\n",
    "axs3 = sns.barplot(x = 'season', y = 'count', data=train, ax = ax3, palette = 'tab10')\n",
    "\n",
    "axs1.set_title('Causal')\n",
    "axs2.set_title('Registered')\n",
    "axs3.set_title('Count (ALL)')\n",
    "\n",
    "plt.show()"
   ]
  },
  {
   "cell_type": "markdown",
   "id": "72805716",
   "metadata": {},
   "source": [
    "Analysis\n",
    "1. Summer and Fall had the highest average rental counts. However, `casual` and `registered` show different patterns.\n",
    "2. During Spring and Winter, the average reservations of `registered` users were higher than those of `casual` users."
   ]
  },
  {
   "cell_type": "markdown",
   "id": "9a1ca732",
   "metadata": {},
   "source": [
    "### **Questions to Answer**\n",
    "1. If the usage patterns of casual and registered users are significantly different, how about predicting them separately? \\\n",
    "In other words, instead of using only count as the target, predict casual and registered separately and then combine the results.\n",
    "2. `season` and `month` are similar variables. \\\n",
    "Since season is essentially a grouping of every three months, it’s a derived form of month.\n",
    "Because these are similar variables, including both in a machine learning model could hurt performance, so removing one of them might be beneficial.\n"
   ]
  },
  {
   "cell_type": "markdown",
   "id": "b4d51f6d",
   "metadata": {},
   "source": [
    "### **Sorting the data on `workingday` and `holiday` and Creating `day_type`**"
   ]
  },
  {
   "cell_type": "markdown",
   "id": "58c98346",
   "metadata": {},
   "source": [
    "* workingday:\n",
    "    - 1 → Weekday\n",
    "    - 0 → Weekend or holiday\n",
    "* holiday:\n",
    "    - 1 → Public holiday\n",
    "    - 0 → Weekday or weekend\n",
    "\n",
    "* (holiday, workingday): \n",
    "    - (1,0) → Public holiday\n",
    "    - (0,1) → Weekday\n",
    "    - (0,0) → Weekend"
   ]
  },
  {
   "cell_type": "code",
   "execution_count": null,
   "id": "20b7c122",
   "metadata": {},
   "outputs": [],
   "source": [
    "# creating new column for day type\n",
    "train['day_type'] = 'weekend'\n",
    "is_holi = (train['holiday'] == 1)\n",
    "is_week = (train['workingday'] == 1)\n",
    "\n",
    "train.loc[(is_holi), 'day_type'] = 'holiday'\n",
    "train.loc[(is_week), 'day_type'] = 'workingday'\n",
    "train.head()"
   ]
  },
  {
   "cell_type": "code",
   "execution_count": null,
   "id": "ef95a39e",
   "metadata": {},
   "outputs": [],
   "source": [
    "# creating different dataframe for each type\n",
    "h1 = train.loc[train['day_type'] == 'workingday']\n",
    "h2 = train.loc[train['day_type'] == 'weekend']\n",
    "h3 = train.loc[train['day_type'] == 'holiday']"
   ]
  },
  {
   "cell_type": "markdown",
   "id": "e40818b2",
   "metadata": {},
   "source": [
    "### d) `hour` vs. `workingday`"
   ]
  },
  {
   "cell_type": "code",
   "execution_count": null,
   "id": "891af745",
   "metadata": {},
   "outputs": [],
   "source": [
    "h1_df = h1.groupby('hour')[['casual', 'registered', 'count']].mean()\n",
    "plt.figure(figsize = (10,5))\n",
    "plt.plot(h1_df)\n",
    "plt.xticks(np.arange(0, 25))\n",
    "plt.legend(h1_df.columns)\n",
    "plt.title('Workingday')\n",
    "plt.show()"
   ]
  },
  {
   "cell_type": "markdown",
   "id": "a502f25a",
   "metadata": {},
   "source": [
    "Analysis\n",
    "1. the number of `registered` users is usually higher. The graph shape perfectly aligns with commuting hours.\n",
    "2. It typically starts increasing from 6 AM, peaks around 8 AM, then starts increasing again from 4 PM and reaches another peak around 5–6 PM."
   ]
  },
  {
   "cell_type": "markdown",
   "id": "3229d1e7",
   "metadata": {},
   "source": [
    "### e) `hour` vs. `weekend`"
   ]
  },
  {
   "cell_type": "code",
   "execution_count": null,
   "id": "db6a5e23",
   "metadata": {},
   "outputs": [],
   "source": [
    "h2_df = h2.groupby('hour')[['casual', 'registered', 'count']].mean()\n",
    "plt.figure(figsize = (10,5))\n",
    "plt.plot(h2_df)\n",
    "plt.xticks(np.arange(0, 25))\n",
    "plt.legend(h2_df.columns)\n",
    "plt.title('Weekend')\n",
    "plt.show()"
   ]
  },
  {
   "cell_type": "markdown",
   "id": "47f468da",
   "metadata": {},
   "source": [
    "Analysis\n",
    "1.  the number of casual rentals tends to be higher than on weekdays.\n",
    "2.  usage starts increasing around 7 AM, with the highest rental volume between 12 PM and 4 PM.\n",
    "3. the overall shape of the graph is similar for both casual and registered users."
   ]
  },
  {
   "cell_type": "markdown",
   "id": "0a161ea0",
   "metadata": {},
   "source": [
    "### f) `hour` vs. `holiday`"
   ]
  },
  {
   "cell_type": "code",
   "execution_count": null,
   "id": "1a686ac6",
   "metadata": {},
   "outputs": [],
   "source": [
    "h3_df = h3.groupby('hour')[['casual', 'registered', 'count']].mean()\n",
    "plt.figure(figsize = (10,5))\n",
    "plt.plot(h3_df)\n",
    "plt.xticks(np.arange(0, 25))\n",
    "plt.legend(h3_df.columns)\n",
    "plt.title('Holiday')\n",
    "plt.show()"
   ]
  },
  {
   "cell_type": "markdown",
   "id": "bc1eb487",
   "metadata": {},
   "source": [
    "### g) `hour` vs. `count` of different `day_type`"
   ]
  },
  {
   "cell_type": "code",
   "execution_count": null,
   "id": "921e297d",
   "metadata": {},
   "outputs": [],
   "source": [
    "h_all  = train.pivot_table(index = 'hour', columns = 'day_type', values = 'count', aggfunc = 'mean')\n",
    "plt.figure(figsize = (10, 5))\n",
    "plt.plot(h_all)\n",
    "plt.legend(h_all.columns)\n",
    "plt.xticks(np.arange(0, 25))\n",
    "plt.show()"
   ]
  },
  {
   "cell_type": "markdown",
   "id": "0d061692",
   "metadata": {},
   "source": [
    "Analysis\n",
    "1. `Weekdays`: Strong concentration during commute hours — 8 AM & 5–6 PM\n",
    "2. `Weekends` and `holidays`: Heavy usage during the daytime \\\n",
    "    a) Weekends have a slightly higher average usage overall, peaking between 12–4 PM \\\n",
    "    b) On holidays, the peak usage time is more spread out"
   ]
  },
  {
   "cell_type": "markdown",
   "id": "bc406aa4",
   "metadata": {},
   "source": [
    "## 3. The relationship Between Hour and Rental Count"
   ]
  },
  {
   "cell_type": "markdown",
   "id": "e9f992e8",
   "metadata": {},
   "source": [
    "### **Extracting days from datetime**"
   ]
  },
  {
   "cell_type": "markdown",
   "id": "b0d2a7a6",
   "metadata": {},
   "source": [
    "- 0: Monday\n",
    "- 1: Tuesday\n",
    "- 2: Wednesday\n",
    "- 3: Thursday\n",
    "- 4: Friday\n",
    "- 5: Saturday\n",
    "- 6: Sunday"
   ]
  },
  {
   "cell_type": "code",
   "execution_count": null,
   "id": "a6713301",
   "metadata": {},
   "outputs": [],
   "source": [
    "train['dayofweek'] = train['datetime2'].dt.dayofweek\n",
    "train.head()"
   ]
  },
  {
   "cell_type": "markdown",
   "id": "f04b1f06",
   "metadata": {},
   "source": [
    "### a) `count` vs. `hours` of different `day_type`, `season`, `weather`, and `dayofweek`"
   ]
  },
  {
   "cell_type": "code",
   "execution_count": null,
   "id": "ad649d33",
   "metadata": {},
   "outputs": [],
   "source": [
    "fig, axs = plt.subplots(6, 1, figsize = (18,25))\n",
    "ax1, ax2, ax3, ax4, ax5, ax6 = axs.flatten()\n",
    "\n",
    "sns.pointplot(x = 'hour', y = 'count', data = train, ax = ax1)\n",
    "sns.pointplot(x = 'hour', y = 'count', hue = 'workingday', data = train, ax = ax2)\n",
    "sns.pointplot(x = 'hour', y = 'count', hue = 'holiday', data = train, ax = ax3)\n",
    "sns.pointplot(x = 'hour', y = 'count', hue = 'dayofweek', data = train, ax = ax4)\n",
    "sns.pointplot(x = 'hour', y = 'count', hue = 'season', data = train, ax = ax5)\n",
    "sns.pointplot(x = 'hour', y = 'count', hue = 'weather', data = train, ax = ax6)\n",
    "\n",
    "plt.show()"
   ]
  },
  {
   "cell_type": "markdown",
   "id": "62b44b19",
   "metadata": {},
   "source": [
    "Analysis\n",
    "1. The number of data points by day of the week is similar → Weekdays have more data than weekends and holidays.\n",
    "2. When plotted by `workingday`, the graph shows a clear distinction between 1 (weekday) and 0 (weekend/holiday).\n",
    "3. When plotted by `holiday`, the graph appears opposite in color compared to the workingday graph above.\n",
    "4. When plotted by day of the week, the pattern for 0–4 (weekdays) and 5,6 (weekends) differs significantly.\n",
    "5. No significant difference in pattern was observed by season and weather."
   ]
  },
  {
   "cell_type": "markdown",
   "id": "0caf0373",
   "metadata": {},
   "source": [
    "### b) `casual` vs. `hours` of different `day_type`, `season`, `weather`, and `dayofweek`"
   ]
  },
  {
   "cell_type": "code",
   "execution_count": null,
   "id": "d3012732",
   "metadata": {},
   "outputs": [],
   "source": [
    "fig, axs = plt.subplots(5, 1, figsize = (18,22))\n",
    "ax1, ax2, ax3, ax4, ax5 = axs.flatten()\n",
    "\n",
    "sns.pointplot(x = 'hour', y = 'casual', data = train, ax = ax1)\n",
    "sns.pointplot(x = 'hour', y = 'casual', hue = 'workingday', data = train, ax = ax2)\n",
    "sns.pointplot(x = 'hour', y = 'casual', hue = 'dayofweek', data = train, ax = ax3)\n",
    "sns.pointplot(x = 'hour', y = 'casual', hue = 'season', data = train, ax = ax4)\n",
    "sns.pointplot(x = 'hour', y = 'casual', hue = 'weather', data = train, ax = ax5)\n",
    "\n",
    "plt.show()"
   ]
  },
  {
   "cell_type": "markdown",
   "id": "801b9432",
   "metadata": {},
   "source": [
    "Analysis\n",
    "1. the graphs are more similar to `weekend` graphs\n",
    "2. higher rental counts during daytime"
   ]
  },
  {
   "cell_type": "markdown",
   "id": "8d60bc04",
   "metadata": {},
   "source": [
    "## 4. The relationship Between Hour and Temperature / Humidity / Wind Speed"
   ]
  },
  {
   "cell_type": "markdown",
   "id": "5a80935f",
   "metadata": {},
   "source": [
    "### a) `count` and `temp`/`atemp` vs. `hours` "
   ]
  },
  {
   "cell_type": "code",
   "execution_count": null,
   "id": "16f882b3",
   "metadata": {},
   "outputs": [],
   "source": [
    "hourtemp_mean = train.groupby(by = 'hour')[['temp', 'atemp']].mean()\n",
    "hourtemp_mean"
   ]
  },
  {
   "cell_type": "code",
   "execution_count": null,
   "id": "193523dc",
   "metadata": {},
   "outputs": [],
   "source": [
    "new_df = train.groupby('hour')[['count']].mean().reset_index()\n",
    "\n",
    "fig, ax1 = plt.subplots(figsize = (10, 5))\n",
    "ax1.plot(hourtemp_mean, linewidth=5, alpha=0.7)\n",
    "ax1.tick_params(axis='both', direction='in')\n",
    "ax1.legend(hourtemp_mean.columns)\n",
    "\n",
    "ax2 = ax1.twinx()\n",
    "ax2.bar('hour', 'count', data=new_df, color = 'gray', alpha = 0.5)\n",
    "ax2.tick_params(axis='y', direction='in')\n",
    "ax2.set_title('Average Count & Temp.')\n",
    "\n",
    "ax1.set_zorder(ax2.get_zorder() + 10)\n",
    "ax1.patch.set_visible(False)"
   ]
  },
  {
   "cell_type": "markdown",
   "id": "5ef5e58d",
   "metadata": {},
   "source": [
    "### b) `casual` and `temp`/`atemp` vs. `hours`"
   ]
  },
  {
   "cell_type": "code",
   "execution_count": null,
   "id": "16b9ff88",
   "metadata": {},
   "outputs": [],
   "source": [
    "newdf = train.groupby('hour')[['casual']].mean().reset_index()\n",
    "\n",
    "fig, ax1 = plt.subplots(figsize = (10, 5))\n",
    "ax1.plot(hourtemp_mean, linewidth=5, alpha=0.7)\n",
    "ax1.tick_params(axis='both', direction='in')\n",
    "ax1.legend(hourtemp_mean.columns)\n",
    "\n",
    "ax2 = ax1.twinx()\n",
    "ax2.bar('hour', 'casual', data=newdf, color = 'gray', alpha = 0.5)\n",
    "ax2.tick_params(axis='y', direction='in')\n",
    "ax2.set_title('Average Casual & Temp.')\n",
    "\n",
    "ax1.set_zorder(ax2.get_zorder() + 10)\n",
    "ax1.patch.set_visible(False)"
   ]
  },
  {
   "cell_type": "markdown",
   "id": "7d43b8f3",
   "metadata": {},
   "source": [
    "### c) `count` and `humidity` vs. `hours`"
   ]
  },
  {
   "cell_type": "code",
   "execution_count": null,
   "id": "b09d515c",
   "metadata": {},
   "outputs": [],
   "source": [
    "hourhumid_mean = train.groupby(by = 'hour')[['humidity']].mean()\n",
    "hourhumid_mean"
   ]
  },
  {
   "cell_type": "code",
   "execution_count": null,
   "id": "326085cd",
   "metadata": {},
   "outputs": [],
   "source": [
    "new_df = train.groupby('hour')[['count']].mean().reset_index()\n",
    "\n",
    "fig, ax1 = plt.subplots(figsize = (10, 5))\n",
    "ax1.plot(hourhumid_mean, linewidth=5, alpha=0.7)\n",
    "ax1.tick_params(axis='both', direction='in')\n",
    "ax1.legend(hourhumid_mean.columns)\n",
    "\n",
    "ax2 = ax1.twinx()\n",
    "ax2.bar('hour', 'count', data=new_df, color = 'gray', alpha = 0.5)\n",
    "ax2.tick_params(axis='y', direction='in')\n",
    "ax2.set_title('Average Count & Humidity')\n",
    "\n",
    "ax1.set_zorder(ax2.get_zorder() + 10)\n",
    "ax1.patch.set_visible(False)"
   ]
  },
  {
   "cell_type": "markdown",
   "id": "0d00d38a",
   "metadata": {},
   "source": [
    "### d) `casual` and `humidity` vs. `hours`"
   ]
  },
  {
   "cell_type": "code",
   "execution_count": null,
   "id": "db1d969d",
   "metadata": {},
   "outputs": [],
   "source": [
    "new_df = train.groupby('hour')[['casual']].mean().reset_index()\n",
    "\n",
    "fig, ax1 = plt.subplots(figsize = (10, 5))\n",
    "ax1.plot(hourhumid_mean, linewidth=5, alpha=0.7)\n",
    "ax1.tick_params(axis='both', direction='in')\n",
    "ax1.legend(hourhumid_mean.columns)\n",
    "\n",
    "ax2 = ax1.twinx()\n",
    "ax2.bar('hour', 'casual', data=new_df, color = 'gray', alpha = 0.5)\n",
    "ax2.tick_params(axis='y', direction='in')\n",
    "ax2.set_title('Average Casual & Humidity')\n",
    "\n",
    "ax1.set_zorder(ax2.get_zorder() + 10)\n",
    "ax1.patch.set_visible(False)"
   ]
  },
  {
   "cell_type": "markdown",
   "id": "f2092ad8",
   "metadata": {},
   "source": [
    "### e) `count` and `windspeed` vs. `hours` "
   ]
  },
  {
   "cell_type": "code",
   "execution_count": null,
   "id": "923b48e1",
   "metadata": {},
   "outputs": [],
   "source": [
    "hourwind_mean = train.groupby(by = 'hour')[['windspeed']].mean()\n",
    "hourwind_mean"
   ]
  },
  {
   "cell_type": "code",
   "execution_count": null,
   "id": "d6fc5a62",
   "metadata": {},
   "outputs": [],
   "source": [
    "new_df = train.groupby('hour')[['count']].mean().reset_index()\n",
    "\n",
    "fig, ax1 = plt.subplots(figsize = (10, 5))\n",
    "ax1.plot(hourwind_mean, linewidth=5, alpha=0.7)\n",
    "ax1.tick_params(axis='both', direction='in')\n",
    "ax1.legend(hourwind_mean.columns)\n",
    "\n",
    "ax2 = ax1.twinx()\n",
    "ax2.bar('hour', 'count', data=new_df, color = 'gray', alpha = 0.5)\n",
    "ax2.tick_params(axis='y', direction='in')\n",
    "ax2.set_title('Average Count & Wind Speed')\n",
    "\n",
    "ax1.set_zorder(ax2.get_zorder() + 10)\n",
    "ax1.patch.set_visible(False)"
   ]
  },
  {
   "cell_type": "markdown",
   "id": "ec842d35",
   "metadata": {},
   "source": [
    "### f) `casual` and `windspeed` vs. `hours` "
   ]
  },
  {
   "cell_type": "code",
   "execution_count": null,
   "id": "3c684e25",
   "metadata": {},
   "outputs": [],
   "source": [
    "new_df = train.groupby('hour')[['casual']].mean().reset_index()\n",
    "\n",
    "fig, ax1 = plt.subplots(figsize = (10, 5))\n",
    "ax1.plot(hourwind_mean, linewidth=5, alpha=0.7)\n",
    "ax1.tick_params(axis='both', direction='in')\n",
    "ax1.legend(hourwind_mean.columns)\n",
    "\n",
    "ax2 = ax1.twinx()\n",
    "ax2.bar('hour', 'casual', data=new_df, color = 'gray', alpha = 0.5)\n",
    "ax2.tick_params(axis='y', direction='in')\n",
    "ax2.set_title('Average Casual & Wind Speed')\n",
    "\n",
    "ax1.set_zorder(ax2.get_zorder() + 10)\n",
    "ax1.patch.set_visible(False)"
   ]
  },
  {
   "cell_type": "markdown",
   "id": "3e34599f",
   "metadata": {},
   "source": [
    "## 5. The relationship Between Month and Rental Count"
   ]
  },
  {
   "cell_type": "markdown",
   "id": "b721ccbd",
   "metadata": {},
   "source": [
    "### a) `count` vs. `month` of different `day_type`, `season`, `weather`, and `dayofweek`"
   ]
  },
  {
   "cell_type": "code",
   "execution_count": null,
   "id": "6a3f9310",
   "metadata": {},
   "outputs": [],
   "source": [
    "fig, axs = plt.subplots(6, 1, figsize = (18,25))\n",
    "ax1, ax2, ax3, ax4, ax5, ax6 = axs.flatten()\n",
    "\n",
    "sns.pointplot(x = 'month', y = 'count', data = train, ax = ax1)\n",
    "sns.pointplot(x = 'month', y = 'count', hue = 'workingday', data = train, ax = ax2)\n",
    "sns.pointplot(x = 'month', y = 'count', hue = 'holiday', data = train, ax = ax3)\n",
    "sns.pointplot(x = 'month', y = 'count', hue = 'dayofweek', data = train, ax = ax4, palette='tab10')\n",
    "sns.pointplot(x = 'month', y = 'count', hue = 'season', data = train, ax = ax5)\n",
    "sns.pointplot(x = 'month', y = 'count', hue = 'weather', data = train, ax = ax6)\n",
    "\n",
    "plt.show()"
   ]
  },
  {
   "cell_type": "markdown",
   "id": "7cf67160",
   "metadata": {},
   "source": [
    "### b) `casual` vs. `month` of different `day_type`, `season`, `weather`, and `dayofweek`"
   ]
  },
  {
   "cell_type": "code",
   "execution_count": null,
   "id": "96752f42",
   "metadata": {},
   "outputs": [],
   "source": [
    "fig, axs = plt.subplots(6, 1, figsize = (18,25))\n",
    "ax1, ax2, ax3, ax4, ax5, ax6 = axs.flatten()\n",
    "\n",
    "sns.pointplot(x = 'month', y = 'casual', data = train, ax = ax1)\n",
    "sns.pointplot(x = 'month', y = 'casual', hue = 'workingday', data = train, ax = ax2)\n",
    "sns.pointplot(x = 'month', y = 'casual', hue = 'holiday', data = train, ax = ax3)\n",
    "sns.pointplot(x = 'month', y = 'casual', hue = 'dayofweek', data = train, ax = ax4, palette='tab10')\n",
    "sns.pointplot(x = 'month', y = 'casual', hue = 'season', data = train, ax = ax5)\n",
    "sns.pointplot(x = 'month', y = 'casual', hue = 'weather', data = train, ax = ax6)\n",
    "\n",
    "plt.show()"
   ]
  },
  {
   "cell_type": "markdown",
   "id": "a0b61b25",
   "metadata": {},
   "source": [
    "Analysis\n",
    "1. there are more rentals from May to October overall\n",
    "2. There is a clear difference between `holiday` and `workingday` for non-registered users"
   ]
  },
  {
   "cell_type": "markdown",
   "id": "95f62ffd",
   "metadata": {},
   "source": [
    "### c) `count` and `temp`/`atemp` vs. `month`"
   ]
  },
  {
   "cell_type": "code",
   "execution_count": null,
   "id": "d5ac9276",
   "metadata": {},
   "outputs": [],
   "source": [
    "hourtemp_mean = train.groupby(by = 'month')[['temp', 'atemp']].mean()\n",
    "hourtemp_mean"
   ]
  },
  {
   "cell_type": "code",
   "execution_count": null,
   "id": "54473d2b",
   "metadata": {},
   "outputs": [],
   "source": [
    "new_df = train.groupby('month')[['count']].mean().reset_index()\n",
    "\n",
    "fig, ax1 = plt.subplots(figsize = (10, 5))\n",
    "ax1.plot(hourtemp_mean, linewidth=5, alpha=0.7)\n",
    "ax1.tick_params(axis='both', direction='in')\n",
    "ax1.legend(hourtemp_mean.columns)\n",
    "\n",
    "ax2 = ax1.twinx()\n",
    "ax2.bar('month', 'count', data=new_df, color = 'gray', alpha = 0.5)\n",
    "ax2.tick_params(axis='y', direction='in')\n",
    "ax2.set_title('Average Count & Temp.')\n",
    "\n",
    "ax1.set_zorder(ax2.get_zorder() + 10)\n",
    "ax1.patch.set_visible(False)"
   ]
  },
  {
   "cell_type": "markdown",
   "id": "0ee26869",
   "metadata": {},
   "source": [
    "### d) `casual` and `temp`/`atemp` vs. `hours`"
   ]
  },
  {
   "cell_type": "code",
   "execution_count": null,
   "id": "78e61df2",
   "metadata": {},
   "outputs": [],
   "source": [
    "newdf = train.groupby('month')[['casual']].mean().reset_index()\n",
    "\n",
    "fig, ax1 = plt.subplots(figsize = (10, 5))\n",
    "ax1.plot(hourtemp_mean, linewidth=5, alpha=0.7)\n",
    "ax1.tick_params(axis='both', direction='in')\n",
    "ax1.legend(hourtemp_mean.columns)\n",
    "\n",
    "ax2 = ax1.twinx()\n",
    "ax2.bar('month', 'casual', data=newdf, color = 'gray', alpha = 0.5)\n",
    "ax2.tick_params(axis='y', direction='in')\n",
    "ax2.set_title('Average Casual & Temp.')\n",
    "\n",
    "ax1.set_zorder(ax2.get_zorder() + 10)\n",
    "ax1.patch.set_visible(False)"
   ]
  },
  {
   "cell_type": "markdown",
   "id": "da5944f6",
   "metadata": {},
   "source": [
    "### e) `count` and `humidity` vs. `month`"
   ]
  },
  {
   "cell_type": "code",
   "execution_count": null,
   "id": "d548dfb6",
   "metadata": {},
   "outputs": [],
   "source": [
    "hourhumid_mean = train.groupby(by = 'month')[['humidity']].mean()\n",
    "hourhumid_mean"
   ]
  },
  {
   "cell_type": "code",
   "execution_count": null,
   "id": "a2095239",
   "metadata": {},
   "outputs": [],
   "source": [
    "new_df = train.groupby('month')[['count']].mean().reset_index()\n",
    "\n",
    "fig, ax1 = plt.subplots(figsize = (10, 5))\n",
    "ax1.plot(hourhumid_mean, linewidth=5, alpha=0.7)\n",
    "ax1.tick_params(axis='both', direction='in')\n",
    "ax1.legend(hourhumid_mean.columns)\n",
    "\n",
    "ax2 = ax1.twinx()\n",
    "ax2.bar('month', 'count', data=new_df, color = 'gray', alpha = 0.5)\n",
    "ax2.tick_params(axis='y', direction='in')\n",
    "ax2.set_title('Average Count & Humidity')\n",
    "\n",
    "ax1.set_zorder(ax2.get_zorder() + 10)\n",
    "ax1.patch.set_visible(False)"
   ]
  },
  {
   "cell_type": "markdown",
   "id": "e11677dc",
   "metadata": {},
   "source": [
    "### f) `casual` and `humidity` vs. `hours`"
   ]
  },
  {
   "cell_type": "code",
   "execution_count": null,
   "id": "09413886",
   "metadata": {},
   "outputs": [],
   "source": [
    "new_df = train.groupby('month')[['casual']].mean().reset_index()\n",
    "\n",
    "fig, ax1 = plt.subplots(figsize = (10, 5))\n",
    "ax1.plot(hourhumid_mean, linewidth=5, alpha=0.7)\n",
    "ax1.tick_params(axis='both', direction='in')\n",
    "ax1.legend(hourhumid_mean.columns)\n",
    "\n",
    "ax2 = ax1.twinx()\n",
    "ax2.bar('month', 'casual', data=new_df, color = 'gray', alpha = 0.5)\n",
    "ax2.tick_params(axis='y', direction='in')\n",
    "ax2.set_title('Average Casual & Humidity')\n",
    "\n",
    "ax1.set_zorder(ax2.get_zorder() + 10)\n",
    "ax1.patch.set_visible(False)"
   ]
  },
  {
   "cell_type": "markdown",
   "id": "7aa5176a",
   "metadata": {},
   "source": [
    "### g) `count` and `windspeed` vs. `month` "
   ]
  },
  {
   "cell_type": "code",
   "execution_count": null,
   "id": "985612d0",
   "metadata": {},
   "outputs": [],
   "source": [
    "hourwind_mean = train.groupby(by = 'month')[['windspeed']].mean()\n",
    "hourwind_mean"
   ]
  },
  {
   "cell_type": "code",
   "execution_count": null,
   "id": "7a9d78ed",
   "metadata": {},
   "outputs": [],
   "source": [
    "new_df = train.groupby('month')[['count']].mean().reset_index()\n",
    "\n",
    "fig, ax1 = plt.subplots(figsize = (10, 5))\n",
    "ax1.plot(hourwind_mean, linewidth=5, alpha=0.7)\n",
    "ax1.tick_params(axis='both', direction='in')\n",
    "ax1.legend(hourwind_mean.columns)\n",
    "\n",
    "ax2 = ax1.twinx()\n",
    "ax2.bar('month', 'count', data=new_df, color = 'gray', alpha = 0.5)\n",
    "ax2.tick_params(axis='y', direction='in')\n",
    "ax2.set_title('Average Count & Wind Speed')\n",
    "\n",
    "ax1.set_zorder(ax2.get_zorder() + 10)\n",
    "ax1.patch.set_visible(False)"
   ]
  },
  {
   "cell_type": "markdown",
   "id": "12b08ee6",
   "metadata": {},
   "source": [
    "### h) `casual` and `windspeed` vs. `month` "
   ]
  },
  {
   "cell_type": "code",
   "execution_count": null,
   "id": "eae16530",
   "metadata": {},
   "outputs": [],
   "source": [
    "new_df = train.groupby('month')[['casual']].mean().reset_index()\n",
    "\n",
    "fig, ax1 = plt.subplots(figsize = (10, 5))\n",
    "ax1.plot(hourwind_mean, linewidth=5, alpha=0.7)\n",
    "ax1.tick_params(axis='both', direction='in')\n",
    "ax1.legend(hourwind_mean.columns)\n",
    "\n",
    "ax2 = ax1.twinx()\n",
    "ax2.bar('month', 'casual', data=new_df, color = 'gray', alpha = 0.5)\n",
    "ax2.tick_params(axis='y', direction='in')\n",
    "ax2.set_title('Average Casual & Wind Speed')\n",
    "\n",
    "ax1.set_zorder(ax2.get_zorder() + 10)\n",
    "ax1.patch.set_visible(False)"
   ]
  }
 ],
 "metadata": {
  "kernelspec": {
   "display_name": "Python 3",
   "language": "python",
   "name": "python3"
  },
  "language_info": {
   "codemirror_mode": {
    "name": "ipython",
    "version": 3
   },
   "file_extension": ".py",
   "mimetype": "text/x-python",
   "name": "python",
   "nbconvert_exporter": "python",
   "pygments_lexer": "ipython3",
   "version": "3.13.2"
  }
 },
 "nbformat": 4,
 "nbformat_minor": 5
}

{
 "cells": [
  {
   "cell_type": "markdown",
   "id": "97495895",
   "metadata": {},
   "source": [
    "# Importing Libraries"
   ]
  },
  {
   "cell_type": "code",
   "execution_count": null,
   "id": "c31cffd4",
   "metadata": {},
   "outputs": [],
   "source": [
    "\n",
    "import pandas as pd\n",
    "import numpy as np\n",
    "import matplotlib.pyplot as plt\n",
    "%matplotlib inline\n",
    "import seaborn as sns\n"
   ]
  },
  {
   "cell_type": "code",
   "execution_count": null,
   "id": "625f3e52",
   "metadata": {},
   "outputs": [],
   "source": [
    "train = pd.read_csv('/Users/joohyun/Desktop/Projects/bike-sharing-demand/train.csv', parse_dates=['datetime'])\n",
    "print(train.shape)\n",
    "train.head()"
   ]
  },
  {
   "cell_type": "code",
   "execution_count": null,
   "id": "ee95bbb5",
   "metadata": {},
   "outputs": [],
   "source": [
    "test = pd.read_csv('/Users/joohyun/Desktop/Projects/bike-sharing-demand/test.csv', parse_dates=['datetime'])\n",
    "print(test.shape)\n",
    "test.head()"
   ]
  },
  {
   "cell_type": "markdown",
   "id": "f0894ea3",
   "metadata": {},
   "source": [
    "# Modeling - linear regression"
   ]
  },
  {
   "cell_type": "markdown",
   "id": "f9a68cac",
   "metadata": {},
   "source": [
    "## Preprocessing"
   ]
  },
  {
   "cell_type": "markdown",
   "id": "a6ff247e",
   "metadata": {},
   "source": [
    "steps for train data\n",
    "1. Create necessary columns from datetime: year, month, hour, dayofweek\n",
    "2. Remove rows where weather has value 4 (outliers)\n",
    "3. Remove outliers from the count column: values exceeding 3 standard deviations\n",
    "4. Apply log transformation to the target columns: casual and registered\n",
    "5. Convert categorical variable types\n",
    "6. Split the data into 2 datasets (one for casual, one for registered)"
   ]
  },
  {
   "cell_type": "markdown",
   "id": "7b0224ae",
   "metadata": {},
   "source": [
    "#### 1. Creating New Columns"
   ]
  },
  {
   "cell_type": "code",
   "execution_count": null,
   "id": "f501d187",
   "metadata": {},
   "outputs": [],
   "source": [
    "train['year'] = train['datetime'].dt.year\n",
    "train['month'] = train['datetime'].dt.month\n",
    "train['hour'] = train['datetime'].dt.hour\n",
    "train['dayofweek'] = train['datetime'].dt.dayofweek\n",
    "del train['datetime']\n",
    "\n",
    "train.head(3)"
   ]
  },
  {
   "cell_type": "markdown",
   "id": "38d0c484",
   "metadata": {},
   "source": [
    "#### 2. Removing the Outlier in `weather` Column"
   ]
  },
  {
   "cell_type": "code",
   "execution_count": null,
   "id": "75b255db",
   "metadata": {},
   "outputs": [],
   "source": [
    "print('before removing:', len(train))\n",
    "train = train.loc[train['weather'] !=4 ]\n",
    "print('after removing: ', len(train))"
   ]
  },
  {
   "cell_type": "markdown",
   "id": "3e46bca4",
   "metadata": {},
   "source": [
    "#### 3. Removing the Outliers in `count` Column"
   ]
  },
  {
   "cell_type": "markdown",
   "id": "803f9b23",
   "metadata": {},
   "source": [
    "anything that are greater than 3σ = outlier"
   ]
  },
  {
   "cell_type": "code",
   "execution_count": null,
   "id": "02e2aadc",
   "metadata": {},
   "outputs": [],
   "source": [
    "train = train[train['count'] - train['count'].mean() < 3*train['count'].std()]\n",
    "train.reset_index(inplace =True, drop = True)\n",
    "print(train.shape)\n",
    "display(train.head())"
   ]
  },
  {
   "cell_type": "markdown",
   "id": "e3ff1bcf",
   "metadata": {},
   "source": [
    "#### 4. log transformation of `casual` & `registered` columns"
   ]
  },
  {
   "cell_type": "code",
   "execution_count": null,
   "id": "9d60a3f3",
   "metadata": {},
   "outputs": [],
   "source": [
    "# distributions of casual & registered\n",
    "figure, (ax1, ax2) = plt.subplots(1,2, figsize = (10,5))\n",
    "sns.histplot(train['casual'], ax = ax1, kde=True)\n",
    "sns.histplot(train['registered'], ax = ax2, kde=True)\n",
    "plt.show()"
   ]
  },
  {
   "cell_type": "code",
   "execution_count": null,
   "id": "45a5d8f1",
   "metadata": {},
   "outputs": [],
   "source": [
    "# changing to log\n",
    "figure, (ax1, ax2) = plt.subplots(1,2, figsize = (10,5))\n",
    "sns.histplot(np.log1p(train['casual']), ax = ax1, kde=True)\n",
    "sns.histplot(np.log1p(train['registered']), ax = ax2, kde=True)\n",
    "\n",
    "plt.show()"
   ]
  },
  {
   "cell_type": "code",
   "execution_count": null,
   "id": "0c07a100",
   "metadata": {},
   "outputs": [],
   "source": [
    "train['casual'] = np.log1p(train['casual'])\n",
    "train['registered'] = np.log1p(train['registered'])\n",
    "\n",
    "display(train.head())\n"
   ]
  },
  {
   "cell_type": "code",
   "execution_count": null,
   "id": "1b7ab8da",
   "metadata": {},
   "outputs": [],
   "source": [
    "print(train['casual'].skew())\n",
    "print(train['registered'].skew())"
   ]
  },
  {
   "cell_type": "markdown",
   "id": "82559b09",
   "metadata": {},
   "source": [
    "#### 5. Changing the types of categorical column"
   ]
  },
  {
   "cell_type": "code",
   "execution_count": null,
   "id": "9ab4029d",
   "metadata": {},
   "outputs": [],
   "source": [
    "category_name = ['weather', 'season', 'year', 'month', 'hour', 'dayofweek']\n",
    "\n",
    "for c in category_name:\n",
    "    train[c] = train[c].astype('category')\n",
    "train.dtypes"
   ]
  },
  {
   "cell_type": "code",
   "execution_count": null,
   "id": "9fee8d4c",
   "metadata": {},
   "outputs": [],
   "source": [
    "train.drop(['count'], axis = 1,inplace =True)"
   ]
  },
  {
   "cell_type": "markdown",
   "id": "83902b66",
   "metadata": {},
   "source": [
    "#### 6. Spliting into 2 DFs"
   ]
  },
  {
   "cell_type": "markdown",
   "id": "57ce54e8",
   "metadata": {},
   "source": [
    "1. `casual`\n",
    "2. `registered`"
   ]
  },
  {
   "cell_type": "code",
   "execution_count": null,
   "id": "9a5479c8",
   "metadata": {},
   "outputs": [],
   "source": [
    "train_c =  train.drop(['registered'], axis = 1)\n",
    "train_re = train.drop(['casual'], axis = 1)\n",
    "\n",
    "print(train_c.shape, train_re.shape)\n",
    "display(train_c.head(3), train_re.head(3))"
   ]
  },
  {
   "cell_type": "markdown",
   "id": "74cd7663",
   "metadata": {},
   "source": [
    "#### 7. Setting ML Prediction for `casual` and `registered`"
   ]
  },
  {
   "cell_type": "code",
   "execution_count": null,
   "id": "a99b450c",
   "metadata": {},
   "outputs": [],
   "source": [
    "from sklearn.model_selection import train_test_split, GridSearchCV\n",
    "from sklearn.linear_model import LinearRegression, Ridge\n",
    "from xgboost import XGBRegressor\n",
    "from sklearn.ensemble import RandomForestRegressor\n",
    "from lightgbm import LGBMRegressor\n",
    "\n",
    "from sklearn.metrics import mean_squared_error\n",
    "from sklearn.model_selection import cross_validate\n",
    "from sklearn.model_selection import GridSearchCV\n",
    "from sklearn.pipeline import Pipeline, make_pipeline"
   ]
  },
  {
   "cell_type": "code",
   "execution_count": null,
   "id": "2e66672f",
   "metadata": {},
   "outputs": [],
   "source": [
    "X_c = train_c.drop(['casual'], axis = 1) \n",
    "y_c = train_c['casual']"
   ]
  },
  {
   "cell_type": "code",
   "execution_count": null,
   "id": "f5ffadf9",
   "metadata": {},
   "outputs": [],
   "source": [
    "X_r = train_re.drop(['registered'], axis = 1) \n",
    "y_r = train_re['registered']"
   ]
  },
  {
   "cell_type": "markdown",
   "id": "d8bf57f8",
   "metadata": {},
   "source": [
    "## `casual` Prediction"
   ]
  },
  {
   "cell_type": "markdown",
   "id": "629b9c25",
   "metadata": {},
   "source": [
    "#### Standard Scaler"
   ]
  },
  {
   "cell_type": "code",
   "execution_count": null,
   "id": "3a3887d0",
   "metadata": {},
   "outputs": [],
   "source": [
    "from sklearn.preprocessing import StandardScaler\n",
    "\n",
    "#linear regression model\n",
    "lr_reg = LinearRegression()\n",
    "\n",
    "#Performed feature standardization together with k-fold cross-validation\n",
    "pipe = make_pipeline(StandardScaler(), lr_reg)\n",
    "scores = cross_validate(pipe, X_c, y_c, cv=5, scoring='neg_mean_squared_error',return_train_score=True)"
   ]
  },
  {
   "cell_type": "code",
   "execution_count": null,
   "id": "8cce2b20",
   "metadata": {},
   "outputs": [],
   "source": [
    "print(\"MSLE: {0:.3f}\".format(np.mean(-scores['test_score'])))"
   ]
  },
  {
   "cell_type": "code",
   "execution_count": null,
   "id": "b2c573c9",
   "metadata": {},
   "outputs": [],
   "source": [
    "np.sqrt(0.933)"
   ]
  },
  {
   "cell_type": "markdown",
   "id": "26ef245a",
   "metadata": {},
   "source": [
    "#### MinMax Scaler"
   ]
  },
  {
   "cell_type": "code",
   "execution_count": null,
   "id": "e03337b7",
   "metadata": {},
   "outputs": [],
   "source": [
    "from sklearn.preprocessing import MinMaxScaler\n",
    "\n",
    "#linear regression model\n",
    "lr_reg = LinearRegression()\n",
    "\n",
    "#Performed feature standardization together with k-fold cross-validation\n",
    "pipe = make_pipeline(MinMaxScaler(), lr_reg)\n",
    "scores = cross_validate(pipe, X_c, y_c, cv=5, scoring='neg_mean_squared_error',return_train_score=True)"
   ]
  },
  {
   "cell_type": "code",
   "execution_count": null,
   "id": "d63337a5",
   "metadata": {},
   "outputs": [],
   "source": [
    "print(\"RMSLE: {0:.3f}\".format(np.sqrt(np.mean(-scores['test_score']))))"
   ]
  },
  {
   "cell_type": "code",
   "execution_count": null,
   "id": "bfea7eae",
   "metadata": {},
   "outputs": [],
   "source": [
    "np.sqrt(0.966)"
   ]
  },
  {
   "cell_type": "markdown",
   "id": "fcef3222",
   "metadata": {},
   "source": [
    "## `registered` prediction"
   ]
  },
  {
   "cell_type": "markdown",
   "id": "5aa4b7c6",
   "metadata": {},
   "source": [
    "#### MinMax Scaler"
   ]
  },
  {
   "cell_type": "code",
   "execution_count": null,
   "id": "24ffd1c8",
   "metadata": {},
   "outputs": [],
   "source": [
    "from sklearn.preprocessing import MinMaxScaler\n",
    "\n",
    "#linear regression model\n",
    "lr_reg = LinearRegression()\n",
    "#Performed feature standardization together with k-fold cross-validation\n",
    "pipe = make_pipeline(MinMaxScaler(), lr_reg)\n",
    "scores = cross_validate(pipe, X_r, y_r, cv=5, scoring='neg_mean_squared_error',return_train_score=True)"
   ]
  },
  {
   "cell_type": "code",
   "execution_count": null,
   "id": "ca55bbf8",
   "metadata": {},
   "outputs": [],
   "source": [
    "print(\"RMSLE: {0:.3f}\".format(np.sqrt(np.mean(-scores['test_score']))))"
   ]
  },
  {
   "cell_type": "code",
   "execution_count": null,
   "id": "2433d1fd",
   "metadata": {},
   "outputs": [],
   "source": [
    "np.sqrt(1.031)"
   ]
  },
  {
   "cell_type": "markdown",
   "id": "764def2f",
   "metadata": {},
   "source": [
    "# Modeling - Ridge (`casual`)"
   ]
  },
  {
   "cell_type": "markdown",
   "id": "26d754e1",
   "metadata": {},
   "source": [
    "### Robust Scaler"
   ]
  },
  {
   "cell_type": "code",
   "execution_count": null,
   "id": "977f5536",
   "metadata": {},
   "outputs": [],
   "source": [
    "from sklearn.preprocessing import RobustScaler\n",
    "\n",
    "#Ridge\n",
    "ridge_reg = Ridge()"
   ]
  },
  {
   "cell_type": "code",
   "execution_count": null,
   "id": "1b9189d7",
   "metadata": {},
   "outputs": [],
   "source": [
    "#Tuned the alpha parameter in Ridge regression.\n",
    "pipeline = Pipeline([('scaler', RobustScaler()), ('ridge',Ridge())])\n",
    "params={'ridge__alpha':[5, 10, 15, 20]}\n",
    "grid_model = GridSearchCV(pipeline, param_grid=params, scoring='neg_mean_squared_error', cv=5)\n",
    "grid_model.fit(X_c, y_c)"
   ]
  },
  {
   "cell_type": "code",
   "execution_count": null,
   "id": "93bf83f3",
   "metadata": {},
   "outputs": [],
   "source": [
    "print(\"MSLE: {0:.3f}\".format( -1*grid_model.best_score_)) \n",
    "print('optimal hyperparameter: ', grid_model.best_params_)"
   ]
  },
  {
   "cell_type": "code",
   "execution_count": null,
   "id": "7ab51cb2",
   "metadata": {},
   "outputs": [],
   "source": [
    "np.sqrt(0.924)"
   ]
  },
  {
   "cell_type": "markdown",
   "id": "c8cfa1d6",
   "metadata": {},
   "source": [
    "### MinMax Scaler"
   ]
  },
  {
   "cell_type": "code",
   "execution_count": null,
   "id": "f8509ad9",
   "metadata": {},
   "outputs": [],
   "source": [
    "from sklearn.preprocessing import RobustScaler\n",
    "\n",
    "#Ridge\n",
    "ridge_reg = Ridge()"
   ]
  },
  {
   "cell_type": "code",
   "execution_count": null,
   "id": "4a8c26ad",
   "metadata": {},
   "outputs": [],
   "source": [
    "#Tuned the alpha parameter in Ridge regression.\n",
    "pipeline = Pipeline([('scaler', MinMaxScaler()), ('ridge',Ridge())])\n",
    "params={'ridge__alpha':[5, 10, 15, 20]}\n",
    "grid_model = GridSearchCV(pipeline, param_grid=params, scoring='neg_mean_squared_error', cv=5)\n",
    "grid_model.fit(X_c, y_c)"
   ]
  },
  {
   "cell_type": "code",
   "execution_count": null,
   "id": "cb030561",
   "metadata": {},
   "outputs": [],
   "source": [
    "print(\"MSLE: {0:.3f}\".format( -1*grid_model.best_score_)) \n",
    "print('optimal hyperparameter: ', grid_model.best_params_)"
   ]
  },
  {
   "cell_type": "code",
   "execution_count": null,
   "id": "1c4cbb73",
   "metadata": {},
   "outputs": [],
   "source": [
    "np.sqrt(0.924)"
   ]
  },
  {
   "cell_type": "markdown",
   "id": "f8dadb79",
   "metadata": {},
   "source": [
    "# Modeling - Random Forest (`casual`) - MinMax Scaler"
   ]
  },
  {
   "cell_type": "code",
   "execution_count": null,
   "id": "ea5c023e",
   "metadata": {},
   "outputs": [],
   "source": [
    "np.random.seed(0)\n",
    "rf =  RandomForestRegressor(n_estimators=500)"
   ]
  },
  {
   "cell_type": "code",
   "execution_count": null,
   "id": "89a003d6",
   "metadata": {},
   "outputs": [],
   "source": [
    "#Performed feature standardization together with k-fold cross-validation\n",
    "pipe = make_pipeline(MinMaxScaler(), rf)\n",
    "scores = cross_validate(pipe, X_c, y_c, cv=5, scoring='neg_mean_squared_error', return_train_score=True)"
   ]
  },
  {
   "cell_type": "code",
   "execution_count": null,
   "id": "ab10f8f0",
   "metadata": {},
   "outputs": [],
   "source": [
    "print(\"MSLE: {0:.3f}\".format(np.mean(-scores['test_score'])))"
   ]
  },
  {
   "cell_type": "code",
   "execution_count": null,
   "id": "61d083d4",
   "metadata": {},
   "outputs": [],
   "source": [
    "#Tuned the hyperparameter in Random Forest.\n",
    "pipeline = Pipeline([('scaler', MinMaxScaler()), ('rf',RandomForestRegressor())])\n",
    "\n",
    "params={'rf__max_depth': [5,10,None],\n",
    "       'rf__min_samples_leaf': [1,3],\n",
    "       'rf__min_samples_split': [2, 3],\n",
    "        'rf__n_estimators': [500, 1000]}\n",
    "\n",
    "grid_model = GridSearchCV(pipeline, param_grid=params, scoring='neg_mean_squared_error', cv=5, n_jobs = 5, verbose=True)\n",
    "grid_model.fit(X_c, y_c)"
   ]
  },
  {
   "cell_type": "code",
   "execution_count": null,
   "id": "0bd02388",
   "metadata": {},
   "outputs": [],
   "source": [
    "print(\"MSLE: {0:.3f}\".format( -1*grid_model.best_score_)) \n",
    "print('optimal hyperparameter: ', grid_model.best_params_)"
   ]
  },
  {
   "cell_type": "markdown",
   "id": "99253baa",
   "metadata": {},
   "source": [
    "# Modeling - LGBM - MinMax Scaler"
   ]
  },
  {
   "cell_type": "markdown",
   "id": "2b3d6982",
   "metadata": {},
   "source": [
    "## `casual` Prediction"
   ]
  },
  {
   "cell_type": "code",
   "execution_count": null,
   "id": "d033dc3a",
   "metadata": {},
   "outputs": [],
   "source": [
    "#LGBM\n",
    "lgbm = LGBMRegressor(n_estimators = 500, objective = 'regression')"
   ]
  },
  {
   "cell_type": "code",
   "execution_count": null,
   "id": "f47cb3d6",
   "metadata": {},
   "outputs": [],
   "source": [
    "#Performed feature standardization together with k-fold cross-validation\n",
    "pipe = make_pipeline(MinMaxScaler(), lgbm)\n",
    "scores = cross_validate(pipe, X_c, y_c, cv=5, scoring='neg_mean_squared_error', return_train_score=True)\n",
    "print(\"MSLE: {0:.3f}\".format(np.mean(-scores['test_score'])))"
   ]
  },
  {
   "cell_type": "code",
   "execution_count": null,
   "id": "4b553c16",
   "metadata": {},
   "outputs": [],
   "source": [
    "#Tuned the hyperparameter in LGBM.\n",
    "pipeline = Pipeline([('scaler', MinMaxScaler()), ('lgbm',LGBMRegressor(objective='regression'))])\n",
    "\n",
    "params={'lgbm__learning_rate': [0.001, 0.01, 0.1],\n",
    "       'lgbm__max_depth': [5, 10],\n",
    "       'lgbm__reg_lambda':[0.1, 1],\n",
    "       'lgbm__subsample': [0.5, 1],\n",
    "       'lgbm__n_estimators': [500, 1000]}\n",
    "\n",
    "grid_model = GridSearchCV(pipeline, param_grid=params, scoring='neg_mean_squared_error', cv=5, n_jobs = 5, verbose=True)\n",
    "grid_model.fit(X_c, y_c)"
   ]
  },
  {
   "cell_type": "code",
   "execution_count": null,
   "id": "9d0b6f64",
   "metadata": {},
   "outputs": [],
   "source": [
    "print(\"MSLE: {0:.3f}\".format( -1*grid_model.best_score_)) \n",
    "print('optimal hyperparameter: ', grid_model.best_params_)"
   ]
  },
  {
   "cell_type": "code",
   "execution_count": null,
   "id": "8be42fc2",
   "metadata": {},
   "outputs": [],
   "source": [
    "#Tuned the hyperparameter again.\n",
    "pipeline = Pipeline([('scaler', MinMaxScaler()), ('lgbm',LGBMRegressor(objective='regression', learning_rate = 0.01, subsample = 0.5))])\n",
    "\n",
    "params={'lgbm__max_depth': [10, 15],\n",
    "       'lgbm__reg_lambda':[0.1, 1],\n",
    "       'lgbm__n_estimators': [500, 1000]}\n",
    "\n",
    "grid_model = GridSearchCV(pipeline, param_grid=params, scoring='neg_mean_squared_error', cv=5, n_jobs = 5, verbose=True)\n",
    "grid_model.fit(X_c, y_c)"
   ]
  },
  {
   "cell_type": "code",
   "execution_count": null,
   "id": "81af24aa",
   "metadata": {},
   "outputs": [],
   "source": [
    "print(\"MSLE: {0:.3f}\".format( -1*grid_model.best_score_)) \n",
    "print('optimal hyperparameter: ', grid_model.best_params_)"
   ]
  },
  {
   "cell_type": "markdown",
   "id": "0ebc7c5c",
   "metadata": {},
   "source": [
    "## `registered` Prediction"
   ]
  },
  {
   "cell_type": "code",
   "execution_count": null,
   "id": "eb5d8dc0",
   "metadata": {},
   "outputs": [],
   "source": [
    "# X, y 나누기\n",
    "X_r = train_re.drop(['registered'], axis = 1) \n",
    "y_r = train_re['registered']"
   ]
  },
  {
   "cell_type": "code",
   "execution_count": null,
   "id": "ae10b156",
   "metadata": {},
   "outputs": [],
   "source": [
    "#LGBM\n",
    "lgbm = LGBMRegressor(n_estimators = 500, objective = 'regression')\n",
    "\n",
    "#Performed feature standardization together with k-fold cross-validation.\n",
    "pipe = make_pipeline(MinMaxScaler(), lgbm)\n",
    "scores = cross_validate(pipe, X_r, y_r, cv=5, scoring='neg_mean_squared_error', return_train_score=True)"
   ]
  },
  {
   "cell_type": "code",
   "execution_count": null,
   "id": "74e9e0c7",
   "metadata": {},
   "outputs": [],
   "source": [
    "print(\"MSLE: {0:.3f}\".format(np.mean(-scores['test_score'])))"
   ]
  },
  {
   "cell_type": "code",
   "execution_count": null,
   "id": "dc990f85",
   "metadata": {},
   "outputs": [],
   "source": [
    "#Tuned the hyperparameter in LGBM.\n",
    "pipeline = Pipeline([('scaler', MinMaxScaler()), ('lgbm',LGBMRegressor(objective='regression', learning_rate = 0.1, subsample = 0.5))])\n",
    "params={'lgbm__max_depth': [3, 5, 7],\n",
    "       'lgbm__reg_lambda':[0.1, 1],\n",
    "       'lgbm__n_estimators': [300, 500]}\n",
    "grid_model = GridSearchCV(pipeline, param_grid=params, scoring='neg_mean_squared_error', cv=5, n_jobs = 5, verbose=True)\n",
    "grid_model.fit(X_r, y_r)"
   ]
  },
  {
   "cell_type": "code",
   "execution_count": null,
   "id": "e7d1a54b",
   "metadata": {},
   "outputs": [],
   "source": [
    "print(\"MSLE: {0:.3f}\".format( -1*grid_model.best_score_)) \n",
    "print('optimal hyperparameter: ', grid_model.best_params_)"
   ]
  },
  {
   "cell_type": "markdown",
   "id": "6172dedc",
   "metadata": {},
   "source": [
    "# Test the Data"
   ]
  },
  {
   "cell_type": "markdown",
   "id": "59aca6f2",
   "metadata": {},
   "source": [
    "## final parameter\n",
    "LGBMRegressor(n_estimators = 500, objective = 'regression', learning_rate = 0.1, max_depth = 3), reg_lambda = 0.1, subsample = 0.5)"
   ]
  },
  {
   "cell_type": "markdown",
   "id": "b2c22a50",
   "metadata": {},
   "source": [
    "## Preprocessing"
   ]
  },
  {
   "cell_type": "code",
   "execution_count": null,
   "id": "d6289079",
   "metadata": {},
   "outputs": [],
   "source": [
    "test['year'] = test['datetime'].dt.year\n",
    "test['month'] = test['datetime'].dt.month\n",
    "test['hour'] = test['datetime'].dt.hour\n",
    "test['dayofweek'] = test['datetime'].dt.dayofweek\n",
    "del test['datetime']"
   ]
  },
  {
   "cell_type": "code",
   "execution_count": null,
   "id": "a6f8ff74",
   "metadata": {},
   "outputs": [],
   "source": [
    "test.head()"
   ]
  },
  {
   "cell_type": "code",
   "execution_count": null,
   "id": "e19d2a0a",
   "metadata": {},
   "outputs": [],
   "source": [
    "category_name = ['weather', 'season', 'year', 'month', 'hour', 'dayofweek']\n",
    "\n",
    "for c in category_name:\n",
    "    test[c] = test[c].astype('category')\n",
    "test.dtypes"
   ]
  },
  {
   "cell_type": "markdown",
   "id": "4f5d1837",
   "metadata": {},
   "source": [
    "## `casual` Prediction"
   ]
  },
  {
   "cell_type": "code",
   "execution_count": null,
   "id": "4cef84ff",
   "metadata": {},
   "outputs": [],
   "source": [
    "# feature standardization\n",
    "minmax = MinMaxScaler()\n",
    "minmax.fit(X_c)\n",
    "X_c_scaled = minmax.transform(X_c)\n",
    "X_test_scaled = minmax.transform(test)"
   ]
  },
  {
   "cell_type": "code",
   "execution_count": null,
   "id": "1b0cd107",
   "metadata": {},
   "outputs": [],
   "source": [
    "# Training with the final parameter-tuned model\n",
    "lgbm1 = LGBMRegressor(n_estimators = 500, objective = 'regression',\n",
    "                    learning_rate = 0.01, subsample = 0.5, max_depth = 15, reg_lambda = 0.1, ranodm_state = 99)"
   ]
  },
  {
   "cell_type": "code",
   "execution_count": null,
   "id": "f880d238",
   "metadata": {},
   "outputs": [],
   "source": [
    "# Learning\n",
    "lgbm1.fit(X_c_scaled, y_c)"
   ]
  },
  {
   "cell_type": "code",
   "execution_count": null,
   "id": "a2f88016",
   "metadata": {},
   "outputs": [],
   "source": [
    "# Make predictions on the test set.\n",
    "pred_c = lgbm1.predict(X_test_scaled)\n",
    "fpred_c = np.expm1(pred_c)"
   ]
  },
  {
   "cell_type": "code",
   "execution_count": null,
   "id": "9ff8f170",
   "metadata": {},
   "outputs": [],
   "source": [
    "#lgbm1's feature importance\n",
    "imp_casual = pd.DataFrame({'feature': test.columns, \n",
    "                                    'coefficient': lgbm1.feature_importances_})\n",
    "imp_casual = imp_casual.sort_values(by = 'coefficient', ascending = False)\n",
    "\n",
    "plt.barh(imp_casual['feature'], imp_casual['coefficient'])\n",
    "plt.show()"
   ]
  },
  {
   "cell_type": "markdown",
   "id": "482c429e",
   "metadata": {},
   "source": [
    "- According to the EDA results, hour was identified as the most important variable, and the LGBM model also assigned it a very high level of importance.\n",
    "- Next in importance were: day of the week > humidity > temperature > month > year."
   ]
  },
  {
   "cell_type": "markdown",
   "id": "89b9faff",
   "metadata": {},
   "source": [
    "## `registered` Prediction"
   ]
  },
  {
   "cell_type": "code",
   "execution_count": null,
   "id": "0eb6eb1e",
   "metadata": {},
   "outputs": [],
   "source": [
    "# feature importance\n",
    "minmax = MinMaxScaler()\n",
    "minmax.fit(X_r) \n",
    "X_r_scaled = minmax.transform(X_r)\n",
    "X_test_scaled = minmax.transform(test)"
   ]
  },
  {
   "cell_type": "code",
   "execution_count": null,
   "id": "43899983",
   "metadata": {},
   "outputs": [],
   "source": [
    "# Training with the final parameter-tuned model\n",
    "lgbm2 = LGBMRegressor(n_estimators = 500, objective = 'regression',learning_rate = 0.1, max_depth = 3, reg_lambda = 0.1, subsample = 0.5, random_state = 99)"
   ]
  },
  {
   "cell_type": "code",
   "execution_count": null,
   "id": "8f4e8565",
   "metadata": {},
   "outputs": [],
   "source": [
    "# learning\n",
    "lgbm2.fit(X_r_scaled, y_r)"
   ]
  },
  {
   "cell_type": "code",
   "execution_count": null,
   "id": "aac085bd",
   "metadata": {},
   "outputs": [],
   "source": [
    "# Make predictions on the test set.\n",
    "pred_re = lgbm2.predict(X_test_scaled)\n",
    "fpred_re = np.expm1(pred_re) "
   ]
  },
  {
   "cell_type": "code",
   "execution_count": null,
   "id": "d731237e",
   "metadata": {},
   "outputs": [],
   "source": [
    "#lgbm2's feature importance\n",
    "imp_re = pd.DataFrame({'feature': test.columns, \n",
    "                                    'coefficient': lgbm2.feature_importances_})\n",
    "imp_re = imp_re.sort_values(by = 'coefficient', ascending = False)\n",
    "\n",
    "plt.barh(imp_re['feature'], imp_re['coefficient'])\n",
    "plt.show()"
   ]
  },
  {
   "cell_type": "markdown",
   "id": "28a7f6d0",
   "metadata": {},
   "source": [
    "- In the registered model as well, hour had the highest contribution, followed by humidity > day of the week > temperature > working day."
   ]
  }
 ],
 "metadata": {
  "kernelspec": {
   "display_name": "test",
   "language": "python",
   "name": "python3"
  },
  "language_info": {
   "codemirror_mode": {
    "name": "ipython",
    "version": 3
   },
   "file_extension": ".py",
   "mimetype": "text/x-python",
   "name": "python",
   "nbconvert_exporter": "python",
   "pygments_lexer": "ipython3",
   "version": "3.13.2"
  }
 },
 "nbformat": 4,
 "nbformat_minor": 5
}
